{
 "cells": [
  {
   "cell_type": "code",
   "id": "initial_id",
   "metadata": {
    "collapsed": true,
    "ExecuteTime": {
     "end_time": "2024-12-01T15:26:37.605845Z",
     "start_time": "2024-12-01T15:26:37.603228Z"
    }
   },
   "source": [
    "import pandas as pd\n",
    "import matplotlib.pyplot as plt\n"
   ],
   "outputs": [],
   "execution_count": 65
  },
  {
   "metadata": {
    "ExecuteTime": {
     "end_time": "2024-12-01T15:26:37.639970Z",
     "start_time": "2024-12-01T15:26:37.631551Z"
    }
   },
   "cell_type": "code",
   "source": [
    "data = pd.read_csv(r'H:\\My Drive\\01.UIT\\HK6\\ShopeeAnalytics.com (8).csv')\n",
    "\n"
   ],
   "id": "7cbed580e534a434",
   "outputs": [],
   "execution_count": 66
  },
  {
   "metadata": {
    "ExecuteTime": {
     "end_time": "2024-12-01T15:26:37.659193Z",
     "start_time": "2024-12-01T15:26:37.651633Z"
    }
   },
   "cell_type": "code",
   "source": "data.head()",
   "id": "981ab9f80b0aa213",
   "outputs": [
    {
     "data": {
      "text/plain": [
       "   Ảnh                                       Tên sản phẩm  \\\n",
       "0  NaN      Set 2 Kẹp tóc len giáng sinh noel cho bé KT11   \n",
       "1  NaN     Kẹp tóc dệt len hình hoa quả, kẹp tóc handmade   \n",
       "2  NaN  Set 9 kẹp tóc len hoạt hình dễ thương cho bé g...   \n",
       "3  NaN     【coffeemate】⚡Kẹp Tóc Len Dễ Thương Dành Cho Nữ   \n",
       "4  NaN  Kẹp tóc len handmade LionChinzilla GeminiFourt...   \n",
       "\n",
       "                                  Link sản phẩm    Giá      Bán   Doanh thu  \\\n",
       "0      https://shopee.vn/SA-i.365283.4365189429  16.00    1.423  22.768.000   \n",
       "1    https://shopee.vn/SA-i.10912353.4212641674   4.50    2.498  11.241.000   \n",
       "2   https://shopee.vn/SA-i.21764863.22416291099  55.00  151.000   8.305.000   \n",
       "3  https://shopee.vn/SA-i.928334223.20771259720   1.39    5.602   7.786.780   \n",
       "4  https://shopee.vn/SA-i.169259625.23353659594  20.00  380.000   7.600.000   \n",
       "\n",
       "      Hành động  \n",
       "0  Xem Chi tiết  \n",
       "1  Xem Chi tiết  \n",
       "2  Xem Chi tiết  \n",
       "3  Xem Chi tiết  \n",
       "4  Xem Chi tiết  "
      ],
      "text/html": [
       "<div>\n",
       "<style scoped>\n",
       "    .dataframe tbody tr th:only-of-type {\n",
       "        vertical-align: middle;\n",
       "    }\n",
       "\n",
       "    .dataframe tbody tr th {\n",
       "        vertical-align: top;\n",
       "    }\n",
       "\n",
       "    .dataframe thead th {\n",
       "        text-align: right;\n",
       "    }\n",
       "</style>\n",
       "<table border=\"1\" class=\"dataframe\">\n",
       "  <thead>\n",
       "    <tr style=\"text-align: right;\">\n",
       "      <th></th>\n",
       "      <th>Ảnh</th>\n",
       "      <th>Tên sản phẩm</th>\n",
       "      <th>Link sản phẩm</th>\n",
       "      <th>Giá</th>\n",
       "      <th>Bán</th>\n",
       "      <th>Doanh thu</th>\n",
       "      <th>Hành động</th>\n",
       "    </tr>\n",
       "  </thead>\n",
       "  <tbody>\n",
       "    <tr>\n",
       "      <th>0</th>\n",
       "      <td>NaN</td>\n",
       "      <td>Set 2 Kẹp tóc len giáng sinh noel cho bé KT11</td>\n",
       "      <td>https://shopee.vn/SA-i.365283.4365189429</td>\n",
       "      <td>16.00</td>\n",
       "      <td>1.423</td>\n",
       "      <td>22.768.000</td>\n",
       "      <td>Xem Chi tiết</td>\n",
       "    </tr>\n",
       "    <tr>\n",
       "      <th>1</th>\n",
       "      <td>NaN</td>\n",
       "      <td>Kẹp tóc dệt len hình hoa quả, kẹp tóc handmade</td>\n",
       "      <td>https://shopee.vn/SA-i.10912353.4212641674</td>\n",
       "      <td>4.50</td>\n",
       "      <td>2.498</td>\n",
       "      <td>11.241.000</td>\n",
       "      <td>Xem Chi tiết</td>\n",
       "    </tr>\n",
       "    <tr>\n",
       "      <th>2</th>\n",
       "      <td>NaN</td>\n",
       "      <td>Set 9 kẹp tóc len hoạt hình dễ thương cho bé g...</td>\n",
       "      <td>https://shopee.vn/SA-i.21764863.22416291099</td>\n",
       "      <td>55.00</td>\n",
       "      <td>151.000</td>\n",
       "      <td>8.305.000</td>\n",
       "      <td>Xem Chi tiết</td>\n",
       "    </tr>\n",
       "    <tr>\n",
       "      <th>3</th>\n",
       "      <td>NaN</td>\n",
       "      <td>【coffeemate】⚡Kẹp Tóc Len Dễ Thương Dành Cho Nữ</td>\n",
       "      <td>https://shopee.vn/SA-i.928334223.20771259720</td>\n",
       "      <td>1.39</td>\n",
       "      <td>5.602</td>\n",
       "      <td>7.786.780</td>\n",
       "      <td>Xem Chi tiết</td>\n",
       "    </tr>\n",
       "    <tr>\n",
       "      <th>4</th>\n",
       "      <td>NaN</td>\n",
       "      <td>Kẹp tóc len handmade LionChinzilla GeminiFourt...</td>\n",
       "      <td>https://shopee.vn/SA-i.169259625.23353659594</td>\n",
       "      <td>20.00</td>\n",
       "      <td>380.000</td>\n",
       "      <td>7.600.000</td>\n",
       "      <td>Xem Chi tiết</td>\n",
       "    </tr>\n",
       "  </tbody>\n",
       "</table>\n",
       "</div>"
      ]
     },
     "execution_count": 67,
     "metadata": {},
     "output_type": "execute_result"
    }
   ],
   "execution_count": 67
  },
  {
   "metadata": {
    "ExecuteTime": {
     "end_time": "2024-12-01T15:26:37.706968Z",
     "start_time": "2024-12-01T15:26:37.697685Z"
    }
   },
   "cell_type": "code",
   "source": "data.describe()",
   "id": "98803fc6832386c7",
   "outputs": [
    {
     "data": {
      "text/plain": [
       "       Ảnh         Giá         Bán\n",
       "count  0.0  100.000000  100.000000\n",
       "mean   NaN   17.647730   93.825230\n",
       "std    NaN   14.400806  149.944477\n",
       "min    NaN    1.390000    1.000000\n",
       "25%    NaN    9.000000    4.000000\n",
       "50%    NaN   13.655000   24.500000\n",
       "75%    NaN   22.125000  113.250000\n",
       "max    NaN  100.000000  817.000000"
      ],
      "text/html": [
       "<div>\n",
       "<style scoped>\n",
       "    .dataframe tbody tr th:only-of-type {\n",
       "        vertical-align: middle;\n",
       "    }\n",
       "\n",
       "    .dataframe tbody tr th {\n",
       "        vertical-align: top;\n",
       "    }\n",
       "\n",
       "    .dataframe thead th {\n",
       "        text-align: right;\n",
       "    }\n",
       "</style>\n",
       "<table border=\"1\" class=\"dataframe\">\n",
       "  <thead>\n",
       "    <tr style=\"text-align: right;\">\n",
       "      <th></th>\n",
       "      <th>Ảnh</th>\n",
       "      <th>Giá</th>\n",
       "      <th>Bán</th>\n",
       "    </tr>\n",
       "  </thead>\n",
       "  <tbody>\n",
       "    <tr>\n",
       "      <th>count</th>\n",
       "      <td>0.0</td>\n",
       "      <td>100.000000</td>\n",
       "      <td>100.000000</td>\n",
       "    </tr>\n",
       "    <tr>\n",
       "      <th>mean</th>\n",
       "      <td>NaN</td>\n",
       "      <td>17.647730</td>\n",
       "      <td>93.825230</td>\n",
       "    </tr>\n",
       "    <tr>\n",
       "      <th>std</th>\n",
       "      <td>NaN</td>\n",
       "      <td>14.400806</td>\n",
       "      <td>149.944477</td>\n",
       "    </tr>\n",
       "    <tr>\n",
       "      <th>min</th>\n",
       "      <td>NaN</td>\n",
       "      <td>1.390000</td>\n",
       "      <td>1.000000</td>\n",
       "    </tr>\n",
       "    <tr>\n",
       "      <th>25%</th>\n",
       "      <td>NaN</td>\n",
       "      <td>9.000000</td>\n",
       "      <td>4.000000</td>\n",
       "    </tr>\n",
       "    <tr>\n",
       "      <th>50%</th>\n",
       "      <td>NaN</td>\n",
       "      <td>13.655000</td>\n",
       "      <td>24.500000</td>\n",
       "    </tr>\n",
       "    <tr>\n",
       "      <th>75%</th>\n",
       "      <td>NaN</td>\n",
       "      <td>22.125000</td>\n",
       "      <td>113.250000</td>\n",
       "    </tr>\n",
       "    <tr>\n",
       "      <th>max</th>\n",
       "      <td>NaN</td>\n",
       "      <td>100.000000</td>\n",
       "      <td>817.000000</td>\n",
       "    </tr>\n",
       "  </tbody>\n",
       "</table>\n",
       "</div>"
      ]
     },
     "execution_count": 68,
     "metadata": {},
     "output_type": "execute_result"
    }
   ],
   "execution_count": 68
  },
  {
   "metadata": {
    "ExecuteTime": {
     "end_time": "2024-12-01T15:26:37.782869Z",
     "start_time": "2024-12-01T15:26:37.779130Z"
    }
   },
   "cell_type": "code",
   "source": "data['Giá'] = pd.to_numeric(data['Giá'], errors='coerce')",
   "id": "7e69ffd30c91fa2f",
   "outputs": [],
   "execution_count": 69
  },
  {
   "metadata": {
    "ExecuteTime": {
     "end_time": "2024-12-01T15:26:37.829443Z",
     "start_time": "2024-12-01T15:26:37.825796Z"
    }
   },
   "cell_type": "code",
   "source": "data['Bán'] = pd.to_numeric(data['Bán'], errors='coerce')",
   "id": "16619dd70292c21b",
   "outputs": [],
   "execution_count": 70
  },
  {
   "metadata": {
    "ExecuteTime": {
     "end_time": "2024-12-01T15:26:37.928148Z",
     "start_time": "2024-12-01T15:26:37.923649Z"
    }
   },
   "cell_type": "code",
   "source": [
    "def number_cluster(price):\n",
    "    if price <= 10:\n",
    "        return \"0-10\"\n",
    "    elif price > 10 and price <= 20:\n",
    "        return \"10-20\"\n",
    "    elif price > 20 and price <= 50:\n",
    "        return \"20-50\"\n",
    "    elif price > 50:\n",
    "        return \">50\"\n",
    "    \n",
    "data['Cụm giá'] = data['Giá'].apply(number_cluster)"
   ],
   "id": "2e7a558a1765b7cd",
   "outputs": [],
   "execution_count": 71
  },
  {
   "metadata": {
    "ExecuteTime": {
     "end_time": "2024-12-01T15:26:37.965283Z",
     "start_time": "2024-12-01T15:26:37.961108Z"
    }
   },
   "cell_type": "code",
   "source": "cluter_data = data.groupby('Cụm giá').agg({'Bán':'sum','Doanh thu':'sum' }).reset_index()",
   "id": "4f1c40f64564ec0",
   "outputs": [],
   "execution_count": 72
  },
  {
   "metadata": {
    "ExecuteTime": {
     "end_time": "2024-12-01T15:26:37.988263Z",
     "start_time": "2024-12-01T15:26:37.981971Z"
    }
   },
   "cell_type": "code",
   "source": "cluter_data.head()",
   "id": "c036c232a6c3d692",
   "outputs": [
    {
     "data": {
      "text/plain": [
       "  Cụm giá       Bán                                          Doanh thu\n",
       "0    0-10  4734.100  11.241.0007.786.7806.580.0004.902.0004.737.600...\n",
       "1   10-20  3562.423  22.768.0007.600.0005.400.0004.580.0003.912.000...\n",
       "2   20-50   895.000  6.193.8004.500.0003.475.0002.418.0002.366.0001...\n",
       "3     >50   191.000                   8.305.0001.980.000400.000165.000"
      ],
      "text/html": [
       "<div>\n",
       "<style scoped>\n",
       "    .dataframe tbody tr th:only-of-type {\n",
       "        vertical-align: middle;\n",
       "    }\n",
       "\n",
       "    .dataframe tbody tr th {\n",
       "        vertical-align: top;\n",
       "    }\n",
       "\n",
       "    .dataframe thead th {\n",
       "        text-align: right;\n",
       "    }\n",
       "</style>\n",
       "<table border=\"1\" class=\"dataframe\">\n",
       "  <thead>\n",
       "    <tr style=\"text-align: right;\">\n",
       "      <th></th>\n",
       "      <th>Cụm giá</th>\n",
       "      <th>Bán</th>\n",
       "      <th>Doanh thu</th>\n",
       "    </tr>\n",
       "  </thead>\n",
       "  <tbody>\n",
       "    <tr>\n",
       "      <th>0</th>\n",
       "      <td>0-10</td>\n",
       "      <td>4734.100</td>\n",
       "      <td>11.241.0007.786.7806.580.0004.902.0004.737.600...</td>\n",
       "    </tr>\n",
       "    <tr>\n",
       "      <th>1</th>\n",
       "      <td>10-20</td>\n",
       "      <td>3562.423</td>\n",
       "      <td>22.768.0007.600.0005.400.0004.580.0003.912.000...</td>\n",
       "    </tr>\n",
       "    <tr>\n",
       "      <th>2</th>\n",
       "      <td>20-50</td>\n",
       "      <td>895.000</td>\n",
       "      <td>6.193.8004.500.0003.475.0002.418.0002.366.0001...</td>\n",
       "    </tr>\n",
       "    <tr>\n",
       "      <th>3</th>\n",
       "      <td>&gt;50</td>\n",
       "      <td>191.000</td>\n",
       "      <td>8.305.0001.980.000400.000165.000</td>\n",
       "    </tr>\n",
       "  </tbody>\n",
       "</table>\n",
       "</div>"
      ]
     },
     "execution_count": 73,
     "metadata": {},
     "output_type": "execute_result"
    }
   ],
   "execution_count": 73
  },
  {
   "metadata": {
    "ExecuteTime": {
     "end_time": "2024-12-01T15:26:38.039981Z",
     "start_time": "2024-12-01T15:26:38.036382Z"
    }
   },
   "cell_type": "code",
   "source": [
    "total_product_sold = cluter_data['Bán'].sum()\n",
    "cluter_data['%Bán'] = (cluter_data['Bán']/total_product_sold)*100"
   ],
   "id": "397ccf9c58797c0d",
   "outputs": [],
   "execution_count": 74
  },
  {
   "metadata": {
    "ExecuteTime": {
     "end_time": "2024-12-01T15:26:38.101772Z",
     "start_time": "2024-12-01T15:26:38.096505Z"
    }
   },
   "cell_type": "code",
   "source": "cluter_data.head()",
   "id": "2d7834a5964067c2",
   "outputs": [
    {
     "data": {
      "text/plain": [
       "  Cụm giá       Bán                                          Doanh thu  \\\n",
       "0    0-10  4734.100  11.241.0007.786.7806.580.0004.902.0004.737.600...   \n",
       "1   10-20  3562.423  22.768.0007.600.0005.400.0004.580.0003.912.000...   \n",
       "2   20-50   895.000  6.193.8004.500.0003.475.0002.418.0002.366.0001...   \n",
       "3     >50   191.000                   8.305.0001.980.000400.000165.000   \n",
       "\n",
       "        %Bán  \n",
       "0  50.456578  \n",
       "1  37.968711  \n",
       "2   9.539012  \n",
       "3   2.035700  "
      ],
      "text/html": [
       "<div>\n",
       "<style scoped>\n",
       "    .dataframe tbody tr th:only-of-type {\n",
       "        vertical-align: middle;\n",
       "    }\n",
       "\n",
       "    .dataframe tbody tr th {\n",
       "        vertical-align: top;\n",
       "    }\n",
       "\n",
       "    .dataframe thead th {\n",
       "        text-align: right;\n",
       "    }\n",
       "</style>\n",
       "<table border=\"1\" class=\"dataframe\">\n",
       "  <thead>\n",
       "    <tr style=\"text-align: right;\">\n",
       "      <th></th>\n",
       "      <th>Cụm giá</th>\n",
       "      <th>Bán</th>\n",
       "      <th>Doanh thu</th>\n",
       "      <th>%Bán</th>\n",
       "    </tr>\n",
       "  </thead>\n",
       "  <tbody>\n",
       "    <tr>\n",
       "      <th>0</th>\n",
       "      <td>0-10</td>\n",
       "      <td>4734.100</td>\n",
       "      <td>11.241.0007.786.7806.580.0004.902.0004.737.600...</td>\n",
       "      <td>50.456578</td>\n",
       "    </tr>\n",
       "    <tr>\n",
       "      <th>1</th>\n",
       "      <td>10-20</td>\n",
       "      <td>3562.423</td>\n",
       "      <td>22.768.0007.600.0005.400.0004.580.0003.912.000...</td>\n",
       "      <td>37.968711</td>\n",
       "    </tr>\n",
       "    <tr>\n",
       "      <th>2</th>\n",
       "      <td>20-50</td>\n",
       "      <td>895.000</td>\n",
       "      <td>6.193.8004.500.0003.475.0002.418.0002.366.0001...</td>\n",
       "      <td>9.539012</td>\n",
       "    </tr>\n",
       "    <tr>\n",
       "      <th>3</th>\n",
       "      <td>&gt;50</td>\n",
       "      <td>191.000</td>\n",
       "      <td>8.305.0001.980.000400.000165.000</td>\n",
       "      <td>2.035700</td>\n",
       "    </tr>\n",
       "  </tbody>\n",
       "</table>\n",
       "</div>"
      ]
     },
     "execution_count": 75,
     "metadata": {},
     "output_type": "execute_result"
    }
   ],
   "execution_count": 75
  },
  {
   "metadata": {
    "ExecuteTime": {
     "end_time": "2024-12-01T15:26:38.296341Z",
     "start_time": "2024-12-01T15:26:38.144051Z"
    }
   },
   "cell_type": "code",
   "source": [
    "# vẽ biểu đồ\n",
    "plt.figure(figsize=(10,6))\n",
    "plt.bar(cluter_data['Cụm giá'], cluter_data['%Bán'])\n",
    "plt.title('Biểu đồ phân bố giá sản phẩm kẹp tóc len')\n",
    "plt.xlabel('Cụm giá (đơn vị 1000 đồng)', fontsize=12)\n",
    "plt.ylabel('%Bán', fontsize=12)\n",
    "plt.xticks(fontsize=10)\n",
    "plt.yticks(fontsize=10)\n",
    "plt.grid(axis='y', linestyle='--', alpha=0.7)\n",
    "plt.show()"
   ],
   "id": "428e4c1f2e802446",
   "outputs": [
    {
     "data": {
      "text/plain": [
       "<Figure size 1000x600 with 1 Axes>"
      ],
      "image/png": "[encoded data removed]"
     },
     "metadata": {},
     "output_type": "display_data"
    }
   ],
   "execution_count": 76
  },
  {
   "metadata": {
    "ExecuteTime": {
     "end_time": "2024-12-01T15:28:49.352865Z",
     "start_time": "2024-12-01T15:28:49.331926Z"
    }
   },
   "cell_type": "code",
   "source": "data_hoa = data = pd.read_csv(r'H:\\My Drive\\01.UIT\\HK6\\hoa_len.csv')",
   "id": "ab985083c99d2e26",
   "outputs": [],
   "execution_count": 77
  },
  {
   "metadata": {
    "ExecuteTime": {
     "end_time": "2024-12-01T15:35:43.817451Z",
     "start_time": "2024-12-01T15:35:43.813763Z"
    }
   },
   "cell_type": "code",
   "source": [
    "data_hoa.head()\n",
    "name_of_bar = \"Biểu đồ phân bố giá sản phẩm hoa trang trí bằng len\"\n"
   ],
   "id": "c4e3d9d5f1d7b759",
   "outputs": [],
   "execution_count": 91
  },
  {
   "metadata": {
    "ExecuteTime": {
     "end_time": "2024-12-01T15:34:58.410378Z",
     "start_time": "2024-12-01T15:34:58.388804Z"
    }
   },
   "cell_type": "code",
   "source": "data_hoa.describe()",
   "id": "43eaaf918639e873",
   "outputs": [
    {
     "data": {
      "text/plain": [
       "       Ảnh         Giá          Bán     Doanh thu\n",
       "count  0.0   98.000000    98.000000  9.800000e+01\n",
       "mean   NaN   78.620337   312.642857  7.934592e+06\n",
       "std    NaN   73.333487  1230.532206  2.714776e+07\n",
       "min    NaN    4.800000     1.000000  8.911000e+03\n",
       "25%    NaN   26.925000     3.000000  1.862500e+05\n",
       "50%    NaN   55.000000     8.000000  7.000000e+05\n",
       "75%    NaN   96.500000    74.500000  2.395250e+06\n",
       "max    NaN  300.000000  9130.000000  2.332715e+08"
      ],
      "text/html": [
       "<div>\n",
       "<style scoped>\n",
       "    .dataframe tbody tr th:only-of-type {\n",
       "        vertical-align: middle;\n",
       "    }\n",
       "\n",
       "    .dataframe tbody tr th {\n",
       "        vertical-align: top;\n",
       "    }\n",
       "\n",
       "    .dataframe thead th {\n",
       "        text-align: right;\n",
       "    }\n",
       "</style>\n",
       "<table border=\"1\" class=\"dataframe\">\n",
       "  <thead>\n",
       "    <tr style=\"text-align: right;\">\n",
       "      <th></th>\n",
       "      <th>Ảnh</th>\n",
       "      <th>Giá</th>\n",
       "      <th>Bán</th>\n",
       "      <th>Doanh thu</th>\n",
       "    </tr>\n",
       "  </thead>\n",
       "  <tbody>\n",
       "    <tr>\n",
       "      <th>count</th>\n",
       "      <td>0.0</td>\n",
       "      <td>98.000000</td>\n",
       "      <td>98.000000</td>\n",
       "      <td>9.800000e+01</td>\n",
       "    </tr>\n",
       "    <tr>\n",
       "      <th>mean</th>\n",
       "      <td>NaN</td>\n",
       "      <td>78.620337</td>\n",
       "      <td>312.642857</td>\n",
       "      <td>7.934592e+06</td>\n",
       "    </tr>\n",
       "    <tr>\n",
       "      <th>std</th>\n",
       "      <td>NaN</td>\n",
       "      <td>73.333487</td>\n",
       "      <td>1230.532206</td>\n",
       "      <td>2.714776e+07</td>\n",
       "    </tr>\n",
       "    <tr>\n",
       "      <th>min</th>\n",
       "      <td>NaN</td>\n",
       "      <td>4.800000</td>\n",
       "      <td>1.000000</td>\n",
       "      <td>8.911000e+03</td>\n",
       "    </tr>\n",
       "    <tr>\n",
       "      <th>25%</th>\n",
       "      <td>NaN</td>\n",
       "      <td>26.925000</td>\n",
       "      <td>3.000000</td>\n",
       "      <td>1.862500e+05</td>\n",
       "    </tr>\n",
       "    <tr>\n",
       "      <th>50%</th>\n",
       "      <td>NaN</td>\n",
       "      <td>55.000000</td>\n",
       "      <td>8.000000</td>\n",
       "      <td>7.000000e+05</td>\n",
       "    </tr>\n",
       "    <tr>\n",
       "      <th>75%</th>\n",
       "      <td>NaN</td>\n",
       "      <td>96.500000</td>\n",
       "      <td>74.500000</td>\n",
       "      <td>2.395250e+06</td>\n",
       "    </tr>\n",
       "    <tr>\n",
       "      <th>max</th>\n",
       "      <td>NaN</td>\n",
       "      <td>300.000000</td>\n",
       "      <td>9130.000000</td>\n",
       "      <td>2.332715e+08</td>\n",
       "    </tr>\n",
       "  </tbody>\n",
       "</table>\n",
       "</div>"
      ]
     },
     "execution_count": 87,
     "metadata": {},
     "output_type": "execute_result"
    }
   ],
   "execution_count": 87
  },
  {
   "metadata": {
    "ExecuteTime": {
     "end_time": "2024-12-01T15:35:48.022154Z",
     "start_time": "2024-12-01T15:35:48.018999Z"
    }
   },
   "cell_type": "code",
   "source": [
    "def number_cluster_hoa(price):\n",
    "    if price <= 20:\n",
    "        return \"0-10\"\n",
    "    elif price > 20 and price <= 50:\n",
    "        return \"20-50\"\n",
    "    elif price > 50:\n",
    "        return \">50\""
   ],
   "id": "cf080d9c2cf4777a",
   "outputs": [],
   "execution_count": 92
  },
  {
   "metadata": {
    "ExecuteTime": {
     "end_time": "2024-12-01T15:40:09.845250Z",
     "start_time": "2024-12-01T15:40:09.841620Z"
    }
   },
   "cell_type": "code",
   "source": [
    "def model_analyst_shopee(data,name_of_bar):\n",
    "    data['Giá'] = pd.to_numeric(data['Giá'], errors='coerce')\n",
    "    data['Bán'] = pd.to_numeric(data['Bán'], errors='coerce')\n",
    "    data['Cụm giá'] = data['Giá'].apply(number_cluster_hoa)\n",
    "    cluter_data = data.groupby('Cụm giá').agg({'Bán':'sum','Doanh thu':'sum' }).reset_index()\n",
    "    total_product_sold = cluter_data['Bán'].sum()\n",
    "    cluter_data['%Bán'] = (cluter_data['Bán']/total_product_sold)*100\n",
    "    # vẽ biểu đồ\n",
    "    plt.figure(figsize=(10,6))\n",
    "    plt.bar(cluter_data['Cụm giá'], cluter_data['%Bán'])\n",
    "    plt.title(name_of_bar)\n",
    "    plt.xlabel('Cụm giá (đơn vị 1000 đồng)', fontsize=12)\n",
    "    plt.ylabel('%Bán', fontsize=12)\n",
    "    plt.xticks(fontsize=10)\n",
    "    plt.yticks(fontsize=10)\n",
    "    plt.grid(axis='y', linestyle='--', alpha=0.7)\n",
    "    plt.show()"
   ],
   "id": "89d236d014e0ca9a",
   "outputs": [],
   "execution_count": 99
  },
  {
   "metadata": {
    "ExecuteTime": {
     "end_time": "2024-12-01T15:40:24.453745Z",
     "start_time": "2024-12-01T15:40:24.307310Z"
    }
   },
   "cell_type": "code",
   "source": [
    "name_of_bar = \"Biểu đồ phân bố giá sản phẩm hoa trang trí bằng len\"\n",
    "model_analyst_shopee(data_hoa,name_of_bar)"
   ],
   "id": "977c5408abefa9a0",
   "outputs": [
    {
     "data": {
      "text/plain": [
       "<Figure size 1000x600 with 1 Axes>"
      ],
      "image/png": "[encoded data removed]"
     },
     "metadata": {},
     "output_type": "display_data"
    }
   ],
   "execution_count": 100
  },
  {
   "metadata": {
    "ExecuteTime": {
     "end_time": "2024-12-01T15:41:02.444664Z",
     "start_time": "2024-12-01T15:41:02.433612Z"
    }
   },
   "cell_type": "code",
   "source": [
    "data_moc_khoa = pd.read_csv(r'H:\\My Drive\\01.UIT\\HK6\\moc_khoa.csv')\n",
    "mockhoa = \" Biểu đồ phân bố giá sản phẩm móc khóa\""
   ],
   "id": "6fa9dc6145e4c274",
   "outputs": [],
   "execution_count": 103
  },
  {
   "metadata": {
    "ExecuteTime": {
     "end_time": "2024-12-01T15:41:04.046577Z",
     "start_time": "2024-12-01T15:41:03.911044Z"
    }
   },
   "cell_type": "code",
   "source": "model_analyst_shopee(data_moc_khoa,mockhoa)",
   "id": "881d59bf674d24c9",
   "outputs": [
    {
     "data": {
      "text/plain": [
       "<Figure size 1000x600 with 1 Axes>"
      ],
      "image/png": "[encoded data removed]"
     },
     "metadata": {},
     "output_type": "display_data"
    }
   ],
   "execution_count": 104
  },
  {
   "metadata": {},
   "cell_type": "code",
   "outputs": [],
   "execution_count": null,
   "source": "",
   "id": "c289cf22ef3388a4"
  }
 ],
 "metadata": {
  "kernelspec": {
   "display_name": "Python 3",
   "language": "python",
   "name": "python3"
  },
  "language_info": {
   "codemirror_mode": {
    "name": "ipython",
    "version": 2
   },
   "file_extension": ".py",
   "mimetype": "text/x-python",
   "name": "python",
   "nbconvert_exporter": "python",
   "pygments_lexer": "ipython2",
   "version": "2.7.6"
  }
 },
 "nbformat": 4,
 "nbformat_minor": 5
}
